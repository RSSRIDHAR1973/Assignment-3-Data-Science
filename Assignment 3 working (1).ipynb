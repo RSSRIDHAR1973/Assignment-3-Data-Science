{
 "cells": [
  {
   "cell_type": "code",
   "execution_count": 1,
   "metadata": {},
   "outputs": [],
   "source": [
    "#1.1\tWrite a Python Program to implement your own myreduce() \n",
    "#function which works exactly like Python's built-in function reduce()\n",
    "#Reduce function\n",
    "\n",
    "def myreduce(anyfunc, sequence):\n",
    "    ''' This is a function created by myself in place of \"Reduce\" function of Python'''\n",
    "# Get the first item in the sequence and assign it to result\n",
    "    result = sequence[0]\n",
    "# Iterate the sequence over remaining items to apply reduce function\n",
    "    for item in sequence[1:]:\n",
    "        result = anyfunc(result, item)\n",
    "    return result\n"
   ]
  },
  {
   "cell_type": "code",
   "execution_count": 2,
   "metadata": {},
   "outputs": [],
   "source": [
    "# Define functions which can be used in the Myreduce function for test\n",
    "def Sum(x,y): return x+y\n",
    "def Subt(x,y): return x-y\n",
    "def Mult(x,y): return x*y"
   ]
  },
  {
   "cell_type": "code",
   "execution_count": 3,
   "metadata": {},
   "outputs": [
    {
     "name": "stdout",
     "output_type": "stream",
     "text": [
      "This is the result based on My reduce funciton for sum of a sequence[1,2,3,4]---------->>>10\n",
      "This is the result based on My reduce funciton for Subtraction of a sequence[1,2,3,4]---------->>>-8\n",
      "This is the result based on My reduce funciton for Multiplication of a sequence[1,2,3,4]---------->>>24\n"
     ]
    }
   ],
   "source": [
    "# Define Print statement with strings to show the results\n",
    "print (\"This is the result based on My reduce funciton for sum of a sequence[1,2,3,4]\"+ '-'*10 + '>'*3 + str(myreduce(Sum,[1,2,3,4])))\n",
    "print (\"This is the result based on My reduce funciton for Subtraction of a sequence[1,2,3,4]\"+ '-'*10 + '>'*3 + str(myreduce(Subt,[1,2,3,4])))\n",
    "print (\"This is the result based on My reduce funciton for Multiplication of a sequence[1,2,3,4]\"+ '-'*10 + '>'*3 + str(myreduce(Mult,[1,2,3,4])))"
   ]
  },
  {
   "cell_type": "code",
   "execution_count": 23,
   "metadata": {},
   "outputs": [
    {
     "name": "stdout",
     "output_type": "stream",
     "text": [
      "This is the result based on My_Filter funciton for filtering all Postive numbers in a sequence[0,1,-2,623,4,-5]---------->>>[1, 623, 4]\n"
     ]
    }
   ],
   "source": [
    "# Write a Myfilter function which is similar to Python's in-built filter function\n",
    "def myfilter(anyfunc, sequence):\n",
    "\n",
    " # Initialize empty list\n",
    " result = []\n",
    " # iterate over sequence of items in sequence and apply filter function\n",
    " for item in sequence:\n",
    "  if anyfunc(item):\n",
    "   result.append(item)\n",
    "\n",
    " # return funal output\n",
    " return result\n",
    "def ispositive(x):\n",
    " if (x <= 0): \n",
    "  return False \n",
    " else: \n",
    "  return True\n",
    "    \n",
    "                \n",
    "# #   Print statement  \n",
    "print (\"This is the result based on My_Filter funciton for filtering all Postive numbers in a sequence[0,1,-2,623,4,-5]\"+ '-'*10 + '>'*3 + str(myfilter(ispositive,[0,1,-2,623,4,-5])))\n",
    "\n",
    "\n",
    "\n",
    "\n"
   ]
  },
  {
   "cell_type": "code",
   "execution_count": null,
   "metadata": {},
   "outputs": [],
   "source": [
    "#1.1\tWrite a Python Program to implement your own myreduce() \n",
    "#function which works exactly like Python's built-in function reduce()\n",
    "#Reduce function\n",
    "\n",
    "#Function for Sum\n",
    "def sum(list_numbers): \n",
    "    #initialise variable for the list index\n",
    "    result = 0\n",
    "    y=0\n",
    "    # add the first number and second number with referenced index\n",
    "    result = list_numbers[y]+list_numbers[y+1]\n",
    "    #Now we have added o and 1 st index numbers from list so increment the index to takefrom the 3 value for loop\n",
    "    y=2\n",
    "    #For loop for adding the numbers from index 3 the list  till last value\n",
    "    for x in list_numbers:\n",
    "        result = result+list_numbers[y]\n",
    "        y = y + 1\n",
    "        if y >= len(list_numbers):\n",
    "            break\n",
    "    return result\n",
    "\n",
    "#Function Sutraction\n",
    "def subt(list_numbers): \n",
    "    #initialise variable for the list index\n",
    "    result = 0\n",
    "    y=0\n",
    "    # add the first number and second number with referenced index\n",
    "    result = list_numbers[y]-list_numbers[y+1]\n",
    "    #Now we have subtracted o and 1 st index numbers from list so increment the index to takefrom the 3 value for loop\n",
    "    y=2\n",
    "    #For loop for substract the numbers from index 3 the list  till last value\n",
    "    for x in list_numbers:\n",
    "        result = result-list_numbers[y]\n",
    "        y = y + 1\n",
    "        if y >= len(list_numbers):\n",
    "            break\n",
    "    return result\n",
    "\n",
    "#Function Division\n",
    "def divi(list_numbers): \n",
    "    #initialise variable for the list index\n",
    "    result = 0\n",
    "    y=0\n",
    "    # add the first number and second number with referenced index\n",
    "    result = list_numbers[y]/list_numbers[y+1]\n",
    "    #Now we have divided o and 1 st index numbers from list so increment the index to takefrom the 3 value for loop\n",
    "    y=2\n",
    "    #For loop for divide the numbers from index 3 the list  till last value\n",
    "    for x in list_numbers:\n",
    "        result = result/list_numbers[y]\n",
    "        y = y + 1\n",
    "        if y >= len(list_numbers):\n",
    "            break\n",
    "    return result\n",
    "\n",
    "#Function Multiply\n",
    "def multi(list_numbers): \n",
    "    #initialise variable for the list index\n",
    "    result = 0\n",
    "    y=0\n",
    "    # add the first number and second number with referenced index\n",
    "    result = list_numbers[y]*list_numbers[y+1]\n",
    "    #Now we have added o and 1 st index numbers from list so increment the index to takefrom the 3 value for loop\n",
    "    y=2\n",
    "    #For loop for adding the numbers from index 3 the list  till last value\n",
    "    for x in list_numbers:\n",
    "        result = result*list_numbers[y]\n",
    "        y = y + 1\n",
    "        if y >= len(list_numbers):\n",
    "            break\n",
    "    return result\n",
    "    \n"
   ]
  },
  {
   "cell_type": "code",
   "execution_count": null,
   "metadata": {},
   "outputs": [],
   "source": [
    "# 2. Implement List comprehensions to produce the following lists.\n",
    "# Write List comprehensions to produce the following Lists\n",
    "# ['A', 'C', 'A', 'D', 'G', 'I', ’L’, ‘ D’]\n",
    "# ['x', 'xx', 'xxx', 'xxxx', 'y', 'yy', 'yyy', 'yyyy', 'z', 'zz', 'zzz', 'zzzz']\n",
    "# ['x', 'y', 'z', 'xx', 'yy', 'zz', 'xxx', 'yyy', 'zzz', 'xxxx', 'yyyy', 'zzzz']\n",
    "# [[2], [3], [4], [3], [4], [5], [4], [5], [6]]\n",
    "# [[2, 3, 4, 5], [3, 4, 5, 6], [4, 5, 6, 7], [5, 6, 7, 8]]\n",
    "# [(1, 1), (2, 1), (3, 1), (1, 2), (2, 2), (3, 2), (1, 3), (2, 3), (3, 3)]\n"
   ]
  },
  {
   "cell_type": "code",
   "execution_count": 6,
   "metadata": {},
   "outputs": [],
   "source": [
    "\n",
    "def getword(words): \n",
    "    #initialise variable for the result list \n",
    "    result = []\n",
    "    #For loop for splitting the letters\n",
    "    for x in words:\n",
    "        result.append(x)\n",
    "    return result"
   ]
  },
  {
   "cell_type": "code",
   "execution_count": 8,
   "metadata": {},
   "outputs": [
    {
     "data": {
      "text/plain": [
       "['A', 'C', 'A', 'D', 'G', 'I', 'L', 'D']"
      ]
     },
     "execution_count": 8,
     "metadata": {},
     "output_type": "execute_result"
    }
   ],
   "source": [
    "getword('ACADGILD')"
   ]
  },
  {
   "cell_type": "code",
   "execution_count": 9,
   "metadata": {},
   "outputs": [
    {
     "name": "stdout",
     "output_type": "stream",
     "text": [
      "ACADGILD => ['A', 'C', 'A', 'D', 'G', 'I', 'L', 'D']\n"
     ]
    }
   ],
   "source": [
    "#Write List comprehensions to produce the following Lists\n",
    "#['A', 'C', 'A', 'D', 'G', 'I', ’L’, ‘ D’]\n",
    "# Compress loop into a single list comprehension using technique [i <Upper for condition> <lower for condition>]\n",
    "word = \"ACADGILD\"\n",
    "alphabet_list = [x for x in word if x !=\" \"]\n",
    "print (\"ACADGILD => \" + str(alphabet_list))"
   ]
  },
  {
   "cell_type": "code",
   "execution_count": 10,
   "metadata": {},
   "outputs": [
    {
     "name": "stdout",
     "output_type": "stream",
     "text": [
      "['x','y','z'] => ['x', 'xx', 'xxx', 'xxxx', 'y', 'yy', 'yyy', 'yyyy', 'z', 'zz', 'zzz', 'zzzz']\n"
     ]
    }
   ],
   "source": [
    "#Write List comprehensions to produce the following Lists\n",
    "#['x', 'xx', 'xxx', 'xxxx', 'y', 'yy', 'yyy', 'yyyy', 'z', 'zz', 'zzz', 'zzzz']\n",
    "# Compress loop into a single list comprehension using technique [i <Upper for condition> <lower for condition>]\n",
    "input_list = ['x','y','z']\n",
    "result = [ item*num for item in input_list for num in range(1,5)  ]\n",
    "print(\"['x','y','z'] => \" +   str(result))"
   ]
  },
  {
   "cell_type": "code",
   "execution_count": 11,
   "metadata": {},
   "outputs": [
    {
     "name": "stdout",
     "output_type": "stream",
     "text": [
      "['x','y','z'] => ['x', 'y', 'z', 'xx', 'yy', 'zz', 'xxx', 'yyy', 'zzz', 'xxxx', 'yyyy', 'zzzz']\n"
     ]
    }
   ],
   "source": [
    "#Implement List comprehensions to produce the following lists.\n",
    "#Write List comprehensions to produce the following Lists\n",
    "#['x', 'y', 'z', 'xx', 'yy', 'zz', 'xxx', 'yyy', 'zzz', 'xxxx', 'yyyy', 'zzzz']\n",
    "# Compress loop into a single list comprehension using technique [i <Upper for condition> <lower for condition>]\n",
    "input_list = ['x','y','z']\n",
    "result = [ item*num for num in range(1,5) for item in input_list  ]\n",
    "print(\"['x','y','z'] => \" +   str(result))"
   ]
  },
  {
   "cell_type": "code",
   "execution_count": 12,
   "metadata": {},
   "outputs": [
    {
     "name": "stdout",
     "output_type": "stream",
     "text": [
      "[2,3,4] =>[[2], [3], [4], [3], [4], [5], [4], [5], [6]]\n"
     ]
    }
   ],
   "source": [
    "#Implement List comprehensions to produce the following lists.\n",
    "#Write List comprehensions to produce the following Lists\n",
    "#[[2], [3], [4], [3], [4], [5], [4], [5], [6]]\n",
    "# Compress loop into a single list comprehension using technique [<i - result> <Upper for condition> <lower for condition>]\n",
    "input_list = [2,3,4]\n",
    "result = [ [item+num] for item in input_list for num in range(0,3)]\n",
    "print(\"[2,3,4] =>\" +  str(result))"
   ]
  },
  {
   "cell_type": "code",
   "execution_count": 13,
   "metadata": {},
   "outputs": [
    {
     "name": "stdout",
     "output_type": "stream",
     "text": [
      "[2,3,4,5] =>[[2, 3, 4, 5], [3, 4, 5, 6], [4, 5, 6, 7], [5, 6, 7, 8]]\n"
     ]
    }
   ],
   "source": [
    "#Implement List comprehensions to produce the following lists.\n",
    "#Write List comprehensions to produce the following Lists\n",
    "#[[2, 3, 4, 5], [3, 4, 5, 6], [4, 5, 6, 7], [5, 6, 7, 8]]\n",
    "# Compress loop into a single list comprehension using technique [<i - result> <Upper for condition> <lower for condition>]\n",
    "\n",
    "input_list = [2,3,4,5]\n",
    "result = [ [item+num for item in input_list] for num in range(0,4)  ]\n",
    "print(\"[2,3,4,5] =>\" +  str(result))"
   ]
  },
  {
   "cell_type": "code",
   "execution_count": 14,
   "metadata": {},
   "outputs": [
    {
     "name": "stdout",
     "output_type": "stream",
     "text": [
      "[1,2,3] =>[(1, 1), (2, 1), (3, 1), (1, 2), (2, 2), (3, 2), (1, 3), (2, 3), (3, 3)]\n"
     ]
    }
   ],
   "source": [
    "#Implement List comprehensions to produce the following lists.\n",
    "#Write List comprehensions to produce the following Lists\n",
    "#[(1, 1), (2, 1), (3, 1), (1, 2), (2, 2), (3, 2), (1, 3), (2, 3), (3, 3)]\n",
    "\n",
    "# Compress loop into list comprehension using technique [<i - result> <Upper for condition> <lower for condition>]\n",
    "input_list=[1,2,3]\n",
    "result = [ (b,a) for a in input_list for b in input_list]\n",
    "print(\"[1,2,3] =>\" +  str(result))"
   ]
  },
  {
   "cell_type": "code",
   "execution_count": 15,
   "metadata": {},
   "outputs": [],
   "source": [
    "#Implement a function longestWord() that takes a list of words and returns the longest one.\n",
    "def longest_word(wordlist):\n",
    "    #Initialise the length and the longest word\n",
    "    longestWord = []\n",
    "    max_len = 0\n",
    "   \n",
    "    #Loop to read the words one by one and check the length and compare for greatest and assign to thelongest word\n",
    "    for word in wordlist:\n",
    "        if len(word) >= max_len:\n",
    "            max_len = len(word)\n",
    "            longestWord = word\n",
    "           \n",
    "    return longestWord"
   ]
  },
  {
   "cell_type": "code",
   "execution_count": 16,
   "metadata": {},
   "outputs": [
    {
     "data": {
      "text/plain": [
       "'Rammaanu'"
      ]
     },
     "execution_count": 16,
     "metadata": {},
     "output_type": "execute_result"
    }
   ],
   "source": [
    "longest_word(['Rama','Ramahu','Ramaaha','Ramam','Ramau', 'Rammaanu'])"
   ]
  }
 ],
 "metadata": {
  "kernelspec": {
   "display_name": "Python 3",
   "language": "python",
   "name": "python3"
  },
  "language_info": {
   "codemirror_mode": {
    "name": "ipython",
    "version": 3
   },
   "file_extension": ".py",
   "mimetype": "text/x-python",
   "name": "python",
   "nbconvert_exporter": "python",
   "pygments_lexer": "ipython3",
   "version": "3.7.0"
  }
 },
 "nbformat": 4,
 "nbformat_minor": 2
}
